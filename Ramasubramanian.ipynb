{
 "cells": [
  {
   "cell_type": "code",
   "execution_count": 25,
   "id": "b62391dc",
   "metadata": {},
   "outputs": [],
   "source": [
    "# Importing Libraries\n",
    "import numpy as np\n",
    "import pandas as pd\n",
    "import matplotlib\n",
    "import matplotlib.pyplot as plt"
   ]
  },
  {
   "cell_type": "code",
   "execution_count": 10,
   "id": "4a7f8d05",
   "metadata": {},
   "outputs": [
    {
     "data": {
      "text/plain": [
       "(39717, 111)"
      ]
     },
     "execution_count": 10,
     "metadata": {},
     "output_type": "execute_result"
    }
   ],
   "source": [
    "#Load the csv file as data frame. \n",
    "loan = pd.read_csv(\"C:/D Drive/d drive/Upgrad ML and AI/Case Study/loan.csv\")\n",
    "loan.shape"
   ]
  },
  {
   "cell_type": "code",
   "execution_count": 30,
   "id": "25f73d34",
   "metadata": {},
   "outputs": [
    {
     "data": {
      "image/png": "[encoded data removed]",
      "text/plain": [
       "<Figure size 432x288 with 1 Axes>"
      ]
     },
     "metadata": {
      "needs_background": "light"
     },
     "output_type": "display_data"
    }
   ],
   "source": [
    "#Loan Status Univariate Analysis\n",
    "current = loan[(loan['loan_status'] == 'Current')]\n",
    "fully_paid = loan[(loan['loan_status'] == 'Fully Paid')]\n",
    "charged_off = loan[(loan['loan_status'] == 'Charged Off')]\n",
    "fig = plt.figure()\n",
    "ax = fig.add_axes([0,0,1,1])\n",
    "xaxis = ['Current','Fully Paid','Charged Off']\n",
    "yaxis =[len(current), len(fully_paid), len(charged_off)]\n",
    "ax.bar(xaxis,yaxis)\n",
    "plt.show()\n"
   ]
  },
  {
   "cell_type": "code",
   "execution_count": 33,
   "id": "3eb7f6a7",
   "metadata": {},
   "outputs": [
    {
     "data": {
      "image/png": "[encoded data removed]",
      "text/plain": [
       "<Figure size 432x288 with 1 Axes>"
      ]
     },
     "metadata": {},
     "output_type": "display_data"
    }
   ],
   "source": [
    "plt.pie(yaxis, labels = xaxis, explode = [0,0,0.2])\n",
    "plt.show()"
   ]
  },
  {
   "cell_type": "code",
   "execution_count": 35,
   "id": "9686844c",
   "metadata": {},
   "outputs": [
    {
     "data": {
      "text/plain": [
       "0.14167736737417227"
      ]
     },
     "execution_count": 35,
     "metadata": {},
     "output_type": "execute_result"
    }
   ],
   "source": [
    "charged_off_per = len(charged_off)/len(loan['loan_status'])\n",
    "charged_off_per"
   ]
  },
  {
   "cell_type": "markdown",
   "id": "37750460",
   "metadata": {},
   "source": [
    "# Customer Analysis\n",
    "### Univariate Analysis"
   ]
  },
  {
   "cell_type": "code",
   "execution_count": 38,
   "id": "5c862849",
   "metadata": {},
   "outputs": [
    {
     "data": {
      "text/plain": [
       "count    32950.000000\n",
       "mean     10866.455994\n",
       "std       7199.629493\n",
       "min        500.000000\n",
       "25%       5200.000000\n",
       "50%       9600.000000\n",
       "75%      15000.000000\n",
       "max      35000.000000\n",
       "Name: loan_amnt, dtype: float64"
      ]
     },
     "execution_count": 38,
     "metadata": {},
     "output_type": "execute_result"
    }
   ],
   "source": [
    "fully_paid['loan_amnt'].describe()"
   ]
  },
  {
   "cell_type": "code",
   "execution_count": 39,
   "id": "dc172ad5",
   "metadata": {},
   "outputs": [
    {
     "data": {
      "text/plain": [
       "count     5627.000000\n",
       "mean     12104.385108\n",
       "std       8085.732038\n",
       "min        900.000000\n",
       "25%       5600.000000\n",
       "50%      10000.000000\n",
       "75%      16500.000000\n",
       "max      35000.000000\n",
       "Name: loan_amnt, dtype: float64"
      ]
     },
     "execution_count": 39,
     "metadata": {},
     "output_type": "execute_result"
    }
   ],
   "source": [
    "charged_off['loan_amnt'].describe()"
   ]
  },
  {
   "cell_type": "markdown",
   "id": "31604685",
   "metadata": {},
   "source": [
    "### No significant difference based on loan amount\n",
    "\n",
    "## Interest Rate Comparison"
   ]
  },
  {
   "cell_type": "code",
   "execution_count": 85,
   "id": "81651f32",
   "metadata": {},
   "outputs": [
    {
     "name": "stdout",
     "output_type": "stream",
     "text": [
      "count    32950.000000\n",
      "mean        11.609761\n",
      "std          3.599964\n",
      "min          5.420000\n",
      "25%          8.490000\n",
      "50%         11.490000\n",
      "75%         13.990000\n",
      "max         24.110000\n",
      "Name: int_rate_per, dtype: float64\n"
     ]
    },
    {
     "name": "stderr",
     "output_type": "stream",
     "text": [
      "C:\\Users\\134259\\AppData\\Local\\Temp/ipykernel_27420/138470152.py:1: SettingWithCopyWarning: \n",
      "A value is trying to be set on a copy of a slice from a DataFrame.\n",
      "Try using .loc[row_indexer,col_indexer] = value instead\n",
      "\n",
      "See the caveats in the documentation: https://pandas.pydata.org/pandas-docs/stable/user_guide/indexing.html#returning-a-view-versus-a-copy\n",
      "  fully_paid['int_rate_per'] = fully_paid['int_rate'].str[:-1].astype(float)\n"
     ]
    },
    {
     "data": {
      "image/png": "[encoded data removed]",
      "text/plain": [
       "<Figure size 432x288 with 1 Axes>"
      ]
     },
     "metadata": {
      "needs_background": "light"
     },
     "output_type": "display_data"
    }
   ],
   "source": [
    "fully_paid['int_rate_per'] = fully_paid['int_rate'].str[:-1].astype(float)\n",
    "print(fully_paid['int_rate_per'].describe())\n",
    "plt.boxplot(fully_paid['int_rate_per'])\n",
    "plt.show()"
   ]
  },
  {
   "cell_type": "code",
   "execution_count": 86,
   "id": "ddbc53a8",
   "metadata": {},
   "outputs": [
    {
     "name": "stdout",
     "output_type": "stream",
     "text": [
      "count    5627.000000\n",
      "mean       13.820432\n",
      "std         3.654413\n",
      "min         5.420000\n",
      "25%        11.310000\n",
      "50%        13.610000\n",
      "75%        16.400000\n",
      "max        24.400000\n",
      "Name: int_rate_per, dtype: float64\n"
     ]
    },
    {
     "name": "stderr",
     "output_type": "stream",
     "text": [
      "C:\\Users\\134259\\AppData\\Local\\Temp/ipykernel_27420/4237447999.py:1: SettingWithCopyWarning: \n",
      "A value is trying to be set on a copy of a slice from a DataFrame.\n",
      "Try using .loc[row_indexer,col_indexer] = value instead\n",
      "\n",
      "See the caveats in the documentation: https://pandas.pydata.org/pandas-docs/stable/user_guide/indexing.html#returning-a-view-versus-a-copy\n",
      "  charged_off['int_rate_per'] = charged_off['int_rate'].str[:-1].astype(float)\n"
     ]
    },
    {
     "data": {
      "image/png": "[encoded data removed]",
      "text/plain": [
       "<Figure size 432x288 with 1 Axes>"
      ]
     },
     "metadata": {
      "needs_background": "light"
     },
     "output_type": "display_data"
    }
   ],
   "source": [
    "charged_off['int_rate_per'] = charged_off['int_rate'].str[:-1].astype(float)\n",
    "print(charged_off['int_rate_per'].describe())\n",
    "plt.boxplot(charged_off['int_rate_per'])\n",
    "plt.show()"
   ]
  },
  {
   "cell_type": "markdown",
   "id": "6a3d650b",
   "metadata": {},
   "source": [
    "### The defaulters average and median interest rates are higher than those of fully paid\n",
    "\n",
    "## Home Ownership Comparison\n"
   ]
  },
  {
   "cell_type": "code",
   "execution_count": 101,
   "id": "69b443cb",
   "metadata": {},
   "outputs": [
    {
     "data": {
      "text/plain": [
       "0.47468892261001516"
      ]
     },
     "execution_count": 101,
     "metadata": {},
     "output_type": "execute_result"
    }
   ],
   "source": [
    "len(fully_paid[(fully_paid['home_ownership'] == 'RENT')]) / len(fully_paid['home_ownership'] )\n"
   ]
  },
  {
   "cell_type": "code",
   "execution_count": 103,
   "id": "fc2f9230",
   "metadata": {},
   "outputs": [
    {
     "data": {
      "text/plain": [
       "0.5045317220543807"
      ]
     },
     "execution_count": 103,
     "metadata": {},
     "output_type": "execute_result"
    }
   ],
   "source": [
    "len(charged_off[(charged_off['home_ownership'] == 'RENT')]) / len(charged_off['home_ownership'] )"
   ]
  },
  {
   "cell_type": "code",
   "execution_count": 143,
   "id": "545bea11",
   "metadata": {},
   "outputs": [
    {
     "data": {
      "text/plain": [
       "0.445948406676783"
      ]
     },
     "execution_count": 143,
     "metadata": {},
     "output_type": "execute_result"
    }
   ],
   "source": [
    "len(fully_paid[(fully_paid['home_ownership'] == 'MORTGAGE')]) / len(fully_paid['home_ownership'] )"
   ]
  },
  {
   "cell_type": "code",
   "execution_count": 144,
   "id": "70cd57be",
   "metadata": {},
   "outputs": [
    {
     "data": {
      "text/plain": [
       "0.41354185178603164"
      ]
     },
     "execution_count": 144,
     "metadata": {},
     "output_type": "execute_result"
    }
   ],
   "source": [
    "len(charged_off[(charged_off['home_ownership'] == 'MORTGAGE')]) / len(charged_off['home_ownership'] )"
   ]
  },
  {
   "cell_type": "markdown",
   "id": "64fd0645",
   "metadata": {},
   "source": [
    "### Higher percent of defaulters are in Rented House\n",
    "\n",
    "## DTI Comparison"
   ]
  },
  {
   "cell_type": "code",
   "execution_count": 105,
   "id": "aa9f31cd",
   "metadata": {},
   "outputs": [],
   "source": [
    "fp = fully_paid\n",
    "co = charged_off"
   ]
  },
  {
   "cell_type": "code",
   "execution_count": 106,
   "id": "a0066293",
   "metadata": {},
   "outputs": [
    {
     "data": {
      "text/plain": [
       "count    32950.000000\n",
       "mean        13.148421\n",
       "std          6.680041\n",
       "min          0.000000\n",
       "25%          7.980000\n",
       "50%         13.200000\n",
       "75%         18.390000\n",
       "max         29.990000\n",
       "Name: dti, dtype: float64"
      ]
     },
     "execution_count": 106,
     "metadata": {},
     "output_type": "execute_result"
    }
   ],
   "source": [
    "fp['dti'].describe()"
   ]
  },
  {
   "cell_type": "code",
   "execution_count": 107,
   "id": "ee20112b",
   "metadata": {},
   "outputs": [
    {
     "data": {
      "text/plain": [
       "count    5627.000000\n",
       "mean       14.000624\n",
       "std         6.585577\n",
       "min         0.000000\n",
       "25%         9.050000\n",
       "50%        14.290000\n",
       "75%        19.290000\n",
       "max        29.850000\n",
       "Name: dti, dtype: float64"
      ]
     },
     "execution_count": 107,
     "metadata": {},
     "output_type": "execute_result"
    }
   ],
   "source": [
    "co['dti'].describe()"
   ]
  },
  {
   "cell_type": "markdown",
   "id": "89eed3c2",
   "metadata": {},
   "source": [
    "### No significant difference in dti\n",
    "\n",
    "## Comparing delinq in past 2 years"
   ]
  },
  {
   "cell_type": "code",
   "execution_count": 109,
   "id": "91b02dac",
   "metadata": {},
   "outputs": [
    {
     "data": {
      "text/plain": [
       "count    32950.000000\n",
       "mean         0.142580\n",
       "std          0.484491\n",
       "min          0.000000\n",
       "25%          0.000000\n",
       "50%          0.000000\n",
       "75%          0.000000\n",
       "max         11.000000\n",
       "Name: delinq_2yrs, dtype: float64"
      ]
     },
     "execution_count": 109,
     "metadata": {},
     "output_type": "execute_result"
    }
   ],
   "source": [
    "fp['delinq_2yrs'].describe()"
   ]
  },
  {
   "cell_type": "code",
   "execution_count": 110,
   "id": "6dd55d42",
   "metadata": {},
   "outputs": [
    {
     "data": {
      "text/plain": [
       "count    5627.000000\n",
       "mean        0.170606\n",
       "std         0.534986\n",
       "min         0.000000\n",
       "25%         0.000000\n",
       "50%         0.000000\n",
       "75%         0.000000\n",
       "max         8.000000\n",
       "Name: delinq_2yrs, dtype: float64"
      ]
     },
     "execution_count": 110,
     "metadata": {},
     "output_type": "execute_result"
    }
   ],
   "source": [
    "co['delinq_2yrs'].describe()    "
   ]
  },
  {
   "cell_type": "markdown",
   "id": "6acc6294",
   "metadata": {},
   "source": [
    "### Couldn't find any pattern in delinq history\n",
    "\n",
    "## Compare loan inquiries in past 6 months"
   ]
  },
  {
   "cell_type": "code",
   "execution_count": 117,
   "id": "f56ea2af",
   "metadata": {},
   "outputs": [
    {
     "name": "stdout",
     "output_type": "stream",
     "text": [
      "count    32950.000000\n",
      "mean         0.839909\n",
      "std          1.053524\n",
      "min          0.000000\n",
      "25%          0.000000\n",
      "50%          1.000000\n",
      "75%          1.000000\n",
      "max          8.000000\n",
      "Name: inq_last_6mths, dtype: float64\n"
     ]
    },
    {
     "data": {
      "image/png": "[encoded data removed]",
      "text/plain": [
       "<Figure size 432x288 with 1 Axes>"
      ]
     },
     "metadata": {
      "needs_background": "light"
     },
     "output_type": "display_data"
    }
   ],
   "source": [
    "print(fp['inq_last_6mths'].describe())\n",
    "plt.boxplot(fp['inq_last_6mths'])\n",
    "plt.show()"
   ]
  },
  {
   "cell_type": "code",
   "execution_count": 118,
   "id": "7fb8b0f3",
   "metadata": {},
   "outputs": [
    {
     "name": "stdout",
     "output_type": "stream",
     "text": [
      "count    5627.000000\n",
      "mean        1.058113\n",
      "std         1.154136\n",
      "min         0.000000\n",
      "25%         0.000000\n",
      "50%         1.000000\n",
      "75%         2.000000\n",
      "max         8.000000\n",
      "Name: inq_last_6mths, dtype: float64\n"
     ]
    },
    {
     "data": {
      "image/png": "[encoded data removed]",
      "text/plain": [
       "<Figure size 432x288 with 1 Axes>"
      ]
     },
     "metadata": {
      "needs_background": "light"
     },
     "output_type": "display_data"
    }
   ],
   "source": [
    "print(co['inq_last_6mths'].describe())\n",
    "plt.boxplot(co['inq_last_6mths'])\n",
    "plt.show()"
   ]
  },
  {
   "cell_type": "markdown",
   "id": "adab2722",
   "metadata": {},
   "source": [
    "### Relatively made more inquiries in the past 6 months\n",
    "\n",
    "## Open Account Comparison"
   ]
  },
  {
   "cell_type": "code",
   "execution_count": 121,
   "id": "6205f8ff",
   "metadata": {},
   "outputs": [
    {
     "name": "stdout",
     "output_type": "stream",
     "text": [
      "count    32950.000000\n",
      "mean         9.292049\n",
      "std          4.379854\n",
      "min          2.000000\n",
      "25%          6.000000\n",
      "50%          9.000000\n",
      "75%         12.000000\n",
      "max         44.000000\n",
      "Name: open_acc, dtype: float64\n"
     ]
    },
    {
     "data": {
      "image/png": "[encoded data removed]",
      "text/plain": [
       "<Figure size 432x288 with 1 Axes>"
      ]
     },
     "metadata": {
      "needs_background": "light"
     },
     "output_type": "display_data"
    }
   ],
   "source": [
    "print(fp['open_acc'].describe())\n",
    "plt.boxplot(fp['inq_last_6mths'])\n",
    "plt.show()"
   ]
  },
  {
   "cell_type": "code",
   "execution_count": 123,
   "id": "92d22a61",
   "metadata": {},
   "outputs": [
    {
     "name": "stdout",
     "output_type": "stream",
     "text": [
      "count    5627.000000\n",
      "mean        9.178070\n",
      "std         4.525937\n",
      "min         2.000000\n",
      "25%         6.000000\n",
      "50%         8.000000\n",
      "75%        12.000000\n",
      "max        38.000000\n",
      "Name: open_acc, dtype: float64\n"
     ]
    },
    {
     "data": {
      "image/png": "[encoded data removed]",
      "text/plain": [
       "<Figure size 432x288 with 1 Axes>"
      ]
     },
     "metadata": {
      "needs_background": "light"
     },
     "output_type": "display_data"
    }
   ],
   "source": [
    "print(co['open_acc'].describe())\n",
    "plt.boxplot(co['inq_last_6mths'])\n",
    "plt.show()"
   ]
  },
  {
   "cell_type": "markdown",
   "id": "f586402a",
   "metadata": {},
   "source": [
    "## Source Verification"
   ]
  },
  {
   "cell_type": "code",
   "execution_count": 125,
   "id": "7bc48064",
   "metadata": {},
   "outputs": [
    {
     "data": {
      "text/plain": [
       "0.44163884673748105"
      ]
     },
     "execution_count": 125,
     "metadata": {},
     "output_type": "execute_result"
    }
   ],
   "source": [
    "len(fp[(fp['verification_status'] == 'Not Verified')]) / len(fp['verification_status'] )"
   ]
  },
  {
   "cell_type": "code",
   "execution_count": 126,
   "id": "8540aebc",
   "metadata": {},
   "outputs": [
    {
     "data": {
      "text/plain": [
       "0.3806646525679758"
      ]
     },
     "execution_count": 126,
     "metadata": {},
     "output_type": "execute_result"
    }
   ],
   "source": [
    "len(co[(co['verification_status'] == 'Not Verified')]) / len(co['verification_status'] )"
   ]
  },
  {
   "cell_type": "markdown",
   "id": "af50ac47",
   "metadata": {},
   "source": [
    "### Revolving Balance Confirmation"
   ]
  },
  {
   "cell_type": "code",
   "execution_count": 127,
   "id": "f8d2217e",
   "metadata": {},
   "outputs": [
    {
     "data": {
      "text/plain": [
       "count     32950.000000\n",
       "mean      13251.107739\n",
       "std       15983.260153\n",
       "min           0.000000\n",
       "25%        3603.000000\n",
       "50%        8682.500000\n",
       "75%       16804.750000\n",
       "max      149588.000000\n",
       "Name: revol_bal, dtype: float64"
      ]
     },
     "execution_count": 127,
     "metadata": {},
     "output_type": "execute_result"
    }
   ],
   "source": [
    "fp['revol_bal'].describe()"
   ]
  },
  {
   "cell_type": "code",
   "execution_count": 128,
   "id": "dbaf1ee7",
   "metadata": {},
   "outputs": [
    {
     "data": {
      "text/plain": [
       "count      5627.000000\n",
       "mean      13514.243647\n",
       "std       15164.117475\n",
       "min           0.000000\n",
       "25%        3968.000000\n",
       "50%        9211.000000\n",
       "75%       17518.000000\n",
       "max      148829.000000\n",
       "Name: revol_bal, dtype: float64"
      ]
     },
     "execution_count": 128,
     "metadata": {},
     "output_type": "execute_result"
    }
   ],
   "source": [
    "co['revol_bal'].describe()"
   ]
  },
  {
   "cell_type": "code",
   "execution_count": 141,
   "id": "2314e847",
   "metadata": {},
   "outputs": [
    {
     "name": "stdout",
     "output_type": "stream",
     "text": [
      "count    32916.000000\n",
      "mean        47.531801\n",
      "std         28.276743\n",
      "min          0.000000\n",
      "25%         23.900000\n",
      "50%         47.600000\n",
      "75%         70.800000\n",
      "max         99.900000\n",
      "Name: revol_util, dtype: float64\n"
     ]
    },
    {
     "data": {
      "image/png": "[encoded data removed]",
      "text/plain": [
       "<Figure size 432x288 with 1 Axes>"
      ]
     },
     "metadata": {
      "needs_background": "light"
     },
     "output_type": "display_data"
    }
   ],
   "source": [
    "print(fp['revol_util'].str[:-1].astype(float).describe())\n"
   ]
  },
  {
   "cell_type": "code",
   "execution_count": 133,
   "id": "713e17e4",
   "metadata": {},
   "outputs": [
    {
     "data": {
      "text/plain": [
       "count    5611.000000\n",
       "mean       55.572110\n",
       "std        27.905282\n",
       "min         0.000000\n",
       "25%        34.400000\n",
       "50%        58.400000\n",
       "75%        79.000000\n",
       "max        99.900000\n",
       "Name: revol_util, dtype: float64"
      ]
     },
     "execution_count": 133,
     "metadata": {},
     "output_type": "execute_result"
    }
   ],
   "source": [
    "co['revol_util'].str[:-1].astype(float).describe()"
   ]
  },
  {
   "cell_type": "markdown",
   "id": "19cb3b93",
   "metadata": {},
   "source": [
    "### Revolving credit utilization is on a higher side for defaulters"
   ]
  },
  {
   "cell_type": "code",
   "execution_count": null,
   "id": "ca32dd05",
   "metadata": {},
   "outputs": [],
   "source": []
  }
 ],
 "metadata": {
  "kernelspec": {
   "display_name": "Python 3 (ipykernel)",
   "language": "python",
   "name": "python3"
  },
  "language_info": {
   "codemirror_mode": {
    "name": "ipython",
    "version": 3
   },
   "file_extension": ".py",
   "mimetype": "text/x-python",
   "name": "python",
   "nbconvert_exporter": "python",
   "pygments_lexer": "ipython3",
   "version": "3.9.7"
  }
 },
 "nbformat": 4,
 "nbformat_minor": 5
}
